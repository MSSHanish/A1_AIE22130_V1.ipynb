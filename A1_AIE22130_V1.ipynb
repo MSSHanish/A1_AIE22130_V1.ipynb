{
  "nbformat": 4,
  "nbformat_minor": 0,
  "metadata": {
    "colab": {
      "provenance": []
    },
    "kernelspec": {
      "name": "python3",
      "display_name": "Python 3"
    },
    "language_info": {
      "name": "python"
    }
  },
  "cells": [
    {
      "cell_type": "code",
      "execution_count": 2,
      "metadata": {
        "colab": {
          "base_uri": "https://localhost:8080/"
        },
        "id": "sCqpjjLHCG08",
        "outputId": "864181ce-c2c6-4e2d-d14c-9d3f53fa3d09"
      },
      "outputs": [
        {
          "output_type": "stream",
          "name": "stdout",
          "text": [
            "Enter a string: Badminton\n",
            "Number of Vowels= 3, Number of consonents= 6\n"
          ]
        }
      ],
      "source": [
        "#Question 1-set B\n",
        "def count_vowels_and_consonants(input_string):\n",
        "    vowels_List = \"AaEeIiOoUu\"\n",
        "    #Stores all the vowels\n",
        "    vowel_count = 0\n",
        "    consonant_count = 0\n",
        "\n",
        "    for char in input_string:\n",
        "        if char.isalpha():\n",
        "            if char in vowels_List:\n",
        "            # Checks if vowel character is present in the string\n",
        "                vowel_count += 1\n",
        "            else:\n",
        "                consonant_count += 1\n",
        "\n",
        "    return vowel_count, consonant_count\n",
        "\n",
        "\n",
        "if __name__ == \"__main__\":\n",
        "    input_str = input(\"Enter a string: \")\n",
        "    vowel_count, consonant_count = count_vowels_and_consonants(input_str)\n",
        "    print(f\"Number of Vowels= {vowel_count}, Number of consonents= {consonant_count}\")\n"
      ]
    },
    {
      "cell_type": "code",
      "source": [
        "#Question 2-set B\n",
        "def matrix_multiply(mat_A, mat_B):\n",
        "    if len(mat_A[0]) != len(mat_B):\n",
        "        return \"Error: Matrices A and B are not multipliable.\"\n",
        "\n",
        "    result_matrix = [[0 for _ in range(len(mat_B[0]))] for _ in range(len(mat_A))]\n",
        "\n",
        "    for i in range(len(mat_A)):\n",
        "        for j in range(len(mat_B[0])):\n",
        "            for k in range(len(mat_B)):\n",
        "                result_matrix[i][j] += mat_A[i][k] * mat_B[k][j]\n",
        "\n",
        "    return result_matrix\n",
        "\n",
        "\n",
        "if __name__ == \"__main__\":\n",
        "    # Input matrices from the user\n",
        "    mat_A_rows = int(input(\"Enter the number of rows for matrix A: \"))\n",
        "    mat_A_cols = int(input(\"Enter the number of columns for matrix A: \"))\n",
        "    mat_A = []\n",
        "\n",
        "    print(\"Enter elements for matrix A one by one by pressing enter after each element:\")\n",
        "    for i in range(mat_A_rows):\n",
        "        row = [int(input()) for _ in range(mat_A_cols)]\n",
        "        mat_A.append(row)\n",
        "\n",
        "    mat_B_rows = int(input(\"Enter the number of rows for matrix B: \"))\n",
        "    mat_B_cols = int(input(\"Enter the number of columns for matrix B: \"))\n",
        "    mat_B = []\n",
        "\n",
        "    print(\"Enter elements for matrix B one by one by pressing enter after each element:\")\n",
        "    for i in range(mat_B_rows):\n",
        "        row = [int(input()) for _ in range(mat_B_cols)]\n",
        "        mat_B.append(row)\n",
        "\n",
        "    # Perform matrix multiplication\n",
        "    result = matrix_multiply(mat_A, mat_B)\n",
        "\n",
        "    # Print the result or error message\n",
        "    if isinstance(result, str):\n",
        "        print(result)\n",
        "    else:\n",
        "        print(\"Matrix Multiplication Result:\")\n",
        "        for row in result:\n",
        "            print(row)\n"
      ],
      "metadata": {
        "colab": {
          "base_uri": "https://localhost:8080/"
        },
        "id": "IBb4Zd_pbMw3",
        "outputId": "90414d24-13a4-4ba8-9a4e-6447b3a81b7d"
      },
      "execution_count": 6,
      "outputs": [
        {
          "output_type": "stream",
          "name": "stdout",
          "text": [
            "Enter the number of rows for matrix A: 2\n",
            "Enter the number of columns for matrix A: 2\n",
            "Enter elements for matrix A one by one by pressing enter after each element:\n",
            "1\n",
            "2\n",
            "3\n",
            "4\n",
            "Enter the number of rows for matrix B: 2\n",
            "Enter the number of columns for matrix B: 2\n",
            "Enter elements for matrix B one by one by pressing enter after each element:\n",
            "1\n",
            "2\n",
            "4\n",
            "3\n",
            "Matrix Multiplication Result:\n",
            "[9, 8]\n",
            "[19, 18]\n"
          ]
        }
      ]
    },
    {
      "cell_type": "code",
      "source": [
        "#Question 3-set B\n",
        "def common_elements_count(list1, list2):\n",
        "    common_elements = set(list1) & set(list2)\n",
        "    return len(common_elements)\n",
        "\n",
        "\n",
        "if __name__ == \"__main__\":\n",
        "    # Input for first list\n",
        "    list1 = [int(x) for x in input(\"Enter elements for list A separated by space: \").split()]\n",
        "\n",
        "    # Input for second list\n",
        "    list2 = [int(x) for x in input(\"Enter elements for list B separated by space: \").split()]\n",
        "\n",
        "    # Calculate the number of common elements\n",
        "    common_count = common_elements_count(list1, list2)\n",
        "\n",
        "    # Print the result\n",
        "    print(f\"Number of Common Elements: {common_count}\")\n"
      ],
      "metadata": {
        "colab": {
          "base_uri": "https://localhost:8080/"
        },
        "id": "nwj1brMsdR8s",
        "outputId": "b8398f64-0a24-49af-f1e5-fb7250b4ffa0"
      },
      "execution_count": 7,
      "outputs": [
        {
          "output_type": "stream",
          "name": "stdout",
          "text": [
            "Enter elements for list A separated by space: 1 2 3 4 5\n",
            "Enter elements for list B separated by space: 5 6 3 8 7\n",
            "Number of Common Elements: 2\n"
          ]
        }
      ]
    },
    {
      "cell_type": "code",
      "source": [
        "#Question 4-set B\n",
        "def transpose_matrix(matrix):\n",
        "    return [[matrix[j][i] for j in range(len(matrix))] for i in range(len(matrix[0]))]\n",
        "\n",
        "\n",
        "if __name__ == \"__main__\":\n",
        "    # Input for the matrix\n",
        "    no_of_rows = int(input(\"Enter the number of rows for the matrix: \"))\n",
        "    no_of_cols = int(input(\"Enter the number of columns for the matrix: \"))\n",
        "    input_matrix = []\n",
        "\n",
        "    for i in range(no_of_rows):\n",
        "        row = [int(ele) for ele in input(f\"Enter values for row {i + 1} (give space in between the numbers): \").split()]\n",
        "        if len(row) != no_of_cols:\n",
        "            print(\"Error: Invalid number of elements in a row. Please try again.\")\n",
        "            exit(1)\n",
        "        input_matrix.append(row)\n",
        "\n",
        "    # Calculate the transposed matrix\n",
        "    transposed_matrix = transpose_matrix(input_matrix)\n",
        "\n",
        "    # Print the transposed matrix\n",
        "    print(\"Transposed Matrix:\")\n",
        "    for row in transposed_matrix:\n",
        "        print(row)\n"
      ],
      "metadata": {
        "colab": {
          "base_uri": "https://localhost:8080/"
        },
        "id": "J4MiBKgTeVHO",
        "outputId": "abef2fbf-fa81-4522-c7da-2cb540cc4c1f"
      },
      "execution_count": 11,
      "outputs": [
        {
          "output_type": "stream",
          "name": "stdout",
          "text": [
            "Enter the number of rows for the matrix: 2\n",
            "Enter the number of columns for the matrix: 2\n",
            "Enter values for row 1 (give space in between the numbers): 1 2\n",
            "Enter values for row 2 (give space in between the numbers): 3 4\n",
            "Transposed Matrix:\n",
            "[1, 3]\n",
            "[2, 4]\n"
          ]
        }
      ]
    }
  ]
}